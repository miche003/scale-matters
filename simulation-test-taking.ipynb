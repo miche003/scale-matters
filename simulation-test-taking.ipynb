{
 "cells": [
  {
   "cell_type": "markdown",
   "metadata": {},
   "source": [
    "# Scale Matters\n",
    "A study into the 'fairness' of scaling large-scale assessments <br>\n",
    "By: Gerard Barkema, Matthieu Brinkhuis & Berenice Michels\n",
    "\n",
    "## Simulating a large-scale test\n",
    "We simulate a test adminstered to *N* students, consisting of *M* items.\n",
    "The test is meant to measure a latent ability of the students $\\theta$ which we assume to be normally distributed around a mean value <$\\theta$> with a standard deviation $\\sigma_\\theta$.\n",
    "The distribution of the difficulty $\\beta$ of the items in the test follows - for now- also a normal distribution, where we can set the mean and standard deviation in comparison to that of the student's ability: $\\Delta_\\theta$ and $\\Delta_\\sigma$.\n",
    "\n",
    "> simulation: change N, M, <$\\theta$>, $\\sigma_\\theta$, $\\Delta_\\theta$ and $\\Delta_\\sigma$\n",
    "\n",
    "---\n",
    "Cito 2019: <br>\n",
    "N=87600 <br>\n",
    "M=160 <br>\n",
    "*getuned*: <br>\n",
    "$\\sigma_\\theta$=0.95 <br>\n",
    "$\\Delta_\\theta$=-1.43"
   ]
  },
  {
   "cell_type": "code",
   "execution_count": 11,
   "metadata": {},
   "outputs": [],
   "source": [
    "import numpy as np                                              # import numerical python\n",
    "import matplotlib.pyplot as plt                                 # import plot library\n",
    "\n",
    "# define population_length as array length for population (N) \n",
    "# and test_length as array lenght for test (M)\n",
    "population_length = 87600                                       #N\n",
    "test_length = 160                                              #M\n",
    "ability_mean = 0.0                                              # theta_mean\n",
    "ability_stddev = 0.95                                            # sigma_theta\n",
    "mean_dif = -1.4                                                  # Delta_theta\n",
    "stddev_dif = 0.0                                                # Delta_sigma"
   ]
  },
  {
   "cell_type": "markdown",
   "metadata": {},
   "source": [
    "See the plot for the distribution of the abilities"
   ]
  },
  {
   "cell_type": "code",
   "execution_count": 12,
   "metadata": {},
   "outputs": [
    {
     "data": {
      "image/png": "[encoded data removed]",
      "text/plain": [
       "<Figure size 432x288 with 1 Axes>"
      ]
     },
     "metadata": {
      "needs_background": "light"
     },
     "output_type": "display_data"
    }
   ],
   "source": [
    "population_array = np.arange(1,population_length+1)             # array with population\n",
    "ability = np.random.normal(ability_mean, ability_stddev, population_length)\n",
    "                                                                # array with random normally distributed abilities\n",
    "\n",
    "plt.hist(ability,bins=int(population_length/10))\n",
    "plt.xlabel(\"ability\")\n",
    "plt.ylabel(\"number of students\");"
   ]
  },
  {
   "cell_type": "markdown",
   "metadata": {},
   "source": [
    "See the plot for the distribution of the difficulties\n",
    "\n",
    "\n",
    "> simulation: change the distribution function between normal and uniform"
   ]
  },
  {
   "cell_type": "code",
   "execution_count": 13,
   "metadata": {},
   "outputs": [
    {
     "data": {
      "image/png": "[encoded data removed]",
      "text/plain": [
       "<Figure size 432x288 with 1 Axes>"
      ]
     },
     "metadata": {
      "needs_background": "light"
     },
     "output_type": "display_data"
    }
   ],
   "source": [
    "test_array = np.arange(1,test_length+1)                       # array with test items\n",
    "\n",
    "difficulty_mean = ability_mean + mean_dif                       # calculated mean of difficulties\n",
    "difficulty_stddev = ability_stddev + stddev_dif                 # calculated standard deviation of difficulties\n",
    "difficulty = np.random.normal(difficulty_mean, difficulty_stddev, test_length)\n",
    "                                                              # array with random **normally** distributed difficulties\n",
    "\n",
    "difficulty_width=2*difficulty_stddev\n",
    "# difficulty = np.random.uniform(low=difficulty_mean-difficulty_width,high=difficulty_mean+difficulty_width,size=test_length)\n",
    "                                                              # array with random **uniformly** distributed difficulties\n",
    "    \n",
    "plt.hist(difficulty,bins=int(test_length/10))\n",
    "plt.xlabel(\"difficulty\")\n",
    "plt.ylabel(\"number of items\");"
   ]
  },
  {
   "cell_type": "markdown",
   "metadata": {},
   "source": [
    "Now, we simulate the test. \n",
    "\n",
    "For this we assume that the probability *P* that student *i*  answers question *k*\n",
    "correctly (and obtaines a score of 1), is given by the Item Response Function\n",
    "\n",
    "\n",
    "$$\n",
    "\\\\\n",
    "\\begin{equation}\n",
    "P_{ik}=\\frac{\\exp((\\theta_i-\\beta_k)/\\alpha)}{1+\\exp((\\theta_i-\\beta_k)/\\alpha))}\n",
    "\\end{equation}\n",
    "%\n",
    "$$\n",
    "\n",
    "where $\\alpha$ is a constant.\n",
    "\n",
    "> not yet implemented: change into another IRF\n",
    "\n",
    "---\n",
    "Cito 2019: <br>\n",
    "mean = 120,98 <br>\n",
    "stddev = 22,83"
   ]
  },
  {
   "cell_type": "code",
   "execution_count": 14,
   "metadata": {},
   "outputs": [],
   "source": [
    "# define function IRF\n",
    "def IRF(L,M,theta,beta,alfa):\n",
    "#    L: integer - population size\n",
    "#    M: integer - number of test items\n",
    "#    theta: 2d-array of floats; shape (L,M) - abilities\n",
    "#    beta = 2d-array of floats; shape (L,M) - difficulties\n",
    "#    alfa = float - constant\n",
    "    D = alfa*(theta - beta)\n",
    "    IRF = np.exp(D)/(1+np.exp(D))\n",
    "    return(IRF)"
   ]
  },
  {
   "cell_type": "markdown",
   "metadata": {},
   "source": [
    "> simulation: change alpha"
   ]
  },
  {
   "cell_type": "code",
   "execution_count": 15,
   "metadata": {},
   "outputs": [
    {
     "name": "stdout",
     "output_type": "stream",
     "text": [
      "mean score = 120.33  standard deviation = 22.39\n"
     ]
    },
    {
     "data": {
      "image/png": "[encoded data removed]",
      "text/plain": [
       "<Figure size 432x288 with 1 Axes>"
      ]
     },
     "metadata": {
      "needs_background": "light"
     },
     "output_type": "display_data"
    }
   ],
   "source": [
    "alpha = 1.0\n",
    "\n",
    "testresult = np.ndarray(shape=(population_length,test_length))\n",
    "rs_ability = ability.reshape(population_length,1)\n",
    "rs_difficulty = difficulty.reshape(1,test_length)\n",
    "testresult=IRF(population_length,test_length,rs_ability,rs_difficulty,alpha)\n",
    "test_score = np.sum(testresult,axis=1)\n",
    "plt.hist(test_score,bins=100)\n",
    "plt.xlabel(\"test score\")\n",
    "plt.ylabel(\"number of students\");\n",
    "test_avg=np.average(test_score)\n",
    "test_mean=np.mean(test_score)\n",
    "test_std=np.std(test_score)\n",
    "print(\"mean score = %.2f  standard deviation = %.2f\"%(test_mean,test_std))"
   ]
  },
  {
   "cell_type": "markdown",
   "metadata": {},
   "source": [
    "Next step: calculate distribution of p-values and compare to results Cito 2019 (if known)"
   ]
  }
 ],
 "metadata": {
  "kernelspec": {
   "display_name": "Python 3",
   "language": "python",
   "name": "python3"
  },
  "language_info": {
   "codemirror_mode": {
    "name": "ipython",
    "version": 3
   },
   "file_extension": ".py",
   "mimetype": "text/x-python",
   "name": "python",
   "nbconvert_exporter": "python",
   "pygments_lexer": "ipython3",
   "version": "3.7.6"
  }
 },
 "nbformat": 4,
 "nbformat_minor": 4
}
