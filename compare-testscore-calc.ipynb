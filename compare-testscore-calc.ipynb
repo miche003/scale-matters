{
 "cells": [
  {
   "cell_type": "code",
   "execution_count": 76,
   "metadata": {},
   "outputs": [],
   "source": [
    "import numpy as np                                              # import numerical python\n",
    "import matplotlib.pyplot as plt                                 # import plot library"
   ]
  },
  {
   "cell_type": "markdown",
   "metadata": {},
   "source": [
    "# Scale Matters\n",
    "A study into the 'fairness' of scaling large-scale assessments <br>\n",
    "By: Gerard Barkema, Matthieu Brinkhuis & Berenice Michels\n",
    "\n",
    "## Simulating a large-scale test\n",
    "We simulate a test adminstered to *N* students, consisting of *M* items. <br>\n",
    "The test is meant to measure a latent ability of the students $\\theta$ which we assume to be random normally distributed around a mean value <$\\theta$> with a standard deviation $\\sigma_\\theta$. \n",
    "\n",
    "> simulation: change N, M, <$\\theta$>, $\\sigma_\\theta$"
   ]
  },
  {
   "cell_type": "code",
   "execution_count": 77,
   "metadata": {},
   "outputs": [
    {
     "data": {
      "image/png": "[encoded data removed]",
      "text/plain": [
       "<Figure size 432x288 with 1 Axes>"
      ]
     },
     "metadata": {
      "needs_background": "light"
     },
     "output_type": "display_data"
    }
   ],
   "source": [
    "# CHOOSE: define population_length as array length for population (N) \n",
    "# CHOOSE: and test_length as array lenght for test (M)\n",
    "population_length = 10000                                       #N\n",
    "test_length = 100                                             #M\n",
    "\n",
    "# CHOOSE mean and standard deviation for ability \n",
    "ability_mean = 0.0                                              # theta_mean\n",
    "ability_stddev = 1.0                                            # sigma_theta\n",
    "\n",
    "# fill ability array (if necessary with fixed seed)\n",
    "give_seed=10051968\n",
    "\n",
    "np.random.seed(give_seed)\n",
    "#np.random.seed()\n",
    "ability = np.random.normal(ability_mean,ability_stddev,population_length)\n",
    "                                                                # array with random normally distributed abilities\n",
    "\n",
    "#determine min and max ability for scaling and transformation \n",
    "#(DeMars: most examinees will have values between -3 and 3)\n",
    "ability_min=ability_mean-3*ability_stddev\n",
    "ability_max=ability_mean+3*ability_stddev\n",
    "\n",
    "#keep the original abilityvector in ability_org\n",
    "ability_org = ability.copy()\n",
    "plt.hist(ability_org,bins=int(population_length/10))\n",
    "plt.xlabel(\"ability\")\n",
    "plt.ylabel(\"number of students\");    "
   ]
  },
  {
   "cell_type": "markdown",
   "metadata": {},
   "source": [
    "We can choose to simulate a situation where part of the examinees gets 'better' (probably through extra education).<br>\n",
    "In that case select: subsample = \"True\" <br> <br>\n",
    "We divide the whole range of abilities in subsamples, defined by the distance to the mean.\n",
    "The subsamples have a width of *n*$\\sigma_\\theta$, where *n* can be set. <br>\n",
    "All abilities can be adjusted, or only part of the array, given by the number of items to take out of another (larger or same) number of items. <br>\n",
    "The lower and upper border of the abilities that are to be corrected are given through edu_min and edu_max. Both will be multiplied with the width of the subsample and than added to the mean (so use negative numbers if you want to adjus the abilities below the mean.<br>\n",
    "Finally, the effect of the extra education is represented by an amplification factor, relative to the standard deviation.\n",
    "> simulation: sub (=width of subsample); take and out_of; edu_min and edu_max; amplif"
   ]
  },
  {
   "cell_type": "code",
   "execution_count": 78,
   "metadata": {},
   "outputs": [],
   "source": [
    "subsample = False\n",
    "\n",
    "# not included in this version of the model"
   ]
  },
  {
   "cell_type": "markdown",
   "metadata": {},
   "source": [
    "Each item *i* has a difficulty $\\beta_i$. In accordance with general Item Response Theory (e.g. DeMars, 2010) the difficulty identifies the ability at which 50% of the students, taking the test, is expected to give a correct answer to the question. $\\theta$ and $\\beta$ are defined on the same metric. \n",
    "We can set the mean and standard deviation of the difficulty of the items in the test in comparison to that of the student's ability: $\\Delta_\\theta$ and $\\Delta_\\sigma$.\n",
    "\n",
    "In simulating the test, we assume that the probability *P* that student *i*  answers question *j*\n",
    "correctly (and obtaines a score of 1), is given by the 1PL Item Response Function\n",
    "\n",
    "\n",
    "$$\n",
    "\\\\\n",
    "\\begin{equation}\n",
    "P_{ij}=\\frac{\\exp(\\alpha(\\theta_i-\\beta_j))}{1+\\exp(\\alpha(\\theta_i-\\beta_j))}\n",
    "\\end{equation}\n",
    "%\n",
    "$$\n",
    "\n",
    "where $\\alpha$ is a constant, denoting the discrimination of the items.\n"
   ]
  },
  {
   "cell_type": "code",
   "execution_count": 79,
   "metadata": {},
   "outputs": [],
   "source": [
    "# define function IRF\n",
    "def IRF(L,M,theta,beta,alfa):\n",
    "#    L: integer - population size\n",
    "#    M: integer - number of test items\n",
    "#    theta: 2d-array of floats; shape (L,M) - abilities\n",
    "#    beta = 2d-array of floats; shape (L,M) - difficulties\n",
    "#    alfa = float - constant\n",
    "    D = (theta - beta)*alfa\n",
    "    IRF = np.exp(D)/(1+np.exp(D))\n",
    "    return(IRF)"
   ]
  },
  {
   "cell_type": "markdown",
   "metadata": {},
   "source": [
    "> simulation: \n",
    "* change Δ𝜃, Δ𝜎 and $\\alpha$ <br>\n",
    "* choose the distribution of de difficulties: normally random, uniformly random or uniformly\n",
    "* number of iterations"
   ]
  },
  {
   "cell_type": "code",
   "execution_count": 80,
   "metadata": {},
   "outputs": [],
   "source": [
    "# CHOOSE mean and standard deviation for difficulty (in relation to the ability values)\n",
    "mean_dif = 0.0                                              # Delta_theta\n",
    "stddev_dif = 0.0                                            # Delta_sigma\n",
    "width = 4.0                                                 # for uniform distributions, set to 4*stddev of beta\n",
    "\n",
    "# CHOOSE alpha\n",
    "alpha = 20.0\n",
    "\n",
    "# CHOOSE distribution of difficulties: 1 = normally random, 2 = uniformly random, 3 = uniformly\n",
    "# set seed if wanted (seeding = TRUE)\n",
    "distribution = 2\n",
    "seeding = True\n",
    "\n",
    "# CHOOSE number of iterations\n",
    "sample = 1                                                   # number of iterations"
   ]
  },
  {
   "cell_type": "markdown",
   "metadata": {},
   "source": [
    "Now we run the test. \n",
    "We simulate that the population of students with ability $\\theta$ takes the test with difficulties $\\beta$."
   ]
  },
  {
   "cell_type": "code",
   "execution_count": 81,
   "metadata": {},
   "outputs": [],
   "source": [
    "#fill empty arrays (necessary for sample >1)\n",
    "P_test_score = np.zeros(population_length)                   \n",
    "D_test_score = np.zeros(population_length)\n",
    "C_test_score = np.zeros(population_length)\n",
    "p_values_P = np.zeros(test_length)\n",
    "p_values_D = np.zeros(test_length)\n",
    "p_values_C = np.zeros(test_length)\n",
    "\n",
    "# set the difficulty mean and stddev\n",
    "difficulty_mean = ability_mean + mean_dif                       # calculated mean of difficulties\n",
    "difficulty_stddev = ability_stddev + stddev_dif                 # calculated standard deviation of difficulties\n",
    "\n",
    "# start loop through 'sample' iterations\n",
    "for x in range(sample):\n",
    "    if (distribution==1):\n",
    "        if seeding:\n",
    "            np.random.seed(give_seed)\n",
    "        else: \n",
    "            np.random.seed()\n",
    "        difficulty = np.random.normal(difficulty_mean, difficulty_stddev, test_length)                                                            \n",
    "                                                        # array with random **normally** distributed difficulties\n",
    "    elif (distribution==2):\n",
    "        if seeding:\n",
    "            np.random.seed(give_seed)\n",
    "        else: \n",
    "            np.random.seed()\n",
    "        difficulty = np.random.uniform(low=difficulty_mean-width,high=difficulty_mean+width,size=test_length)\n",
    "                                                        # array with random **uniformly** distributed difficulties\n",
    "    elif (distribution==3):\n",
    "        difficulty = np.linspace(difficulty_mean-width,difficulty_mean+width,num=test_length,endpoint=True)\n",
    "                                                        # array with linear **uniformly** distributed difficulties\n",
    "    \n",
    "#Calculate the probability of a correct score for every combination of student *i* and item *j*\n",
    "    rs_ability = ability.reshape(population_length,1)\n",
    "    rs_difficulty = difficulty.reshape(1,test_length)\n",
    "    testresult=IRF(population_length,test_length,rs_ability,rs_difficulty,alpha)                   \n",
    "                                       # NxM array with probabilities of correct responses of student *i* to item *j*\n",
    "\n",
    "# Calculate the testscore per student based on the probabilities per item\n",
    "    P_test_score_x = np.sum(testresult,axis=1)                                                    \n",
    "    P_test_score = P_test_score + P_test_score_x\n",
    "\n",
    "# Determine for every student - item combination whether the student answers the item correctly as follows:\n",
    "# P>=0,5 => correct; (P<0.5) => false\n",
    "    D_testresult = np.rint(testresult)\n",
    "    \n",
    "# Calculate the testscore per student based on the item being correct (=1) or incorrect (=0)\n",
    "    D_test_score_x = np.sum(D_testresult,axis=1)\n",
    "    D_test_score = D_test_score + D_test_score_x \n",
    "\n",
    "# Determine for every student - item combination whether the student answers the item correctly as follws:\n",
    "# compare each probability P to a random generated probability R (uniform), \n",
    "# if P > R the item score = 1; if P <= R the item score = 0\n",
    "    np.random.seed()\n",
    "    rand_compare = np.random.uniform(low=0,high=1,size=(population_length,test_length))\n",
    "    compare = np.greater(testresult,rand_compare)\n",
    "    C_testresult = compare.astype(int)                                            # NxM array with item results (0 or 1)\n",
    "    \n",
    "# Calculate the testscore per student based on the item being correct (=1) or incorrect (=0)\n",
    "    C_test_score_x = np.sum(C_testresult,axis=1)\n",
    "    C_test_score = C_test_score + C_test_score_x                                                              # N array with test-scores of students\n",
    "    \n",
    "# Calculate the CTT p-value per testitem based on the item being correct (=1) or incorrect (=0)\n",
    "    p_values_P_x = np.mean(testresult,axis=0)        # M-array with p-values (difficulties) of items                    \n",
    "    p_values_P = p_values_P + p_values_P_x\n",
    "    p_values_D_x = np.mean(D_testresult,axis=0)        # M-array with p-values (difficulties) of items                    \n",
    "    p_values_D = p_values_D + p_values_D_x\n",
    "    p_values_C_x = np.mean(C_testresult,axis=0)        # M-array with p-values (difficulties) of items                    \n",
    "    p_values_C = p_values_C + p_values_C_x\n",
    "    \n",
    "P_test_score = P_test_score/sample\n",
    "D_test_score = D_test_score/sample\n",
    "C_test_score = C_test_score/sample\n",
    "p_values_P = p_values_P/sample\n",
    "p_values_D = p_values_D/sample\n",
    "p_values_C = p_values_C/sample\n",
    "\n",
    "#sorted_p_values = np.sort(p_values_test)\n",
    "#sorted_p_values_x = np.sort(p_values_test_x)\n",
    "\n",
    "#test_mean = np.mean(test_score)\n",
    "#test_std = np.std(test_score)"
   ]
  },
  {
   "cell_type": "code",
   "execution_count": 82,
   "metadata": {},
   "outputs": [],
   "source": [
    "# CHOOSE testscore to scale\n",
    "test_score = C_test_score\n",
    "\n",
    "# scale the results - linear transformation\n",
    "# measured abilities (between 0 and 1)\n",
    "scale_min = ability_min\n",
    "scale_max = ability_max\n",
    "\n",
    "scale_length = scale_max - scale_min\n",
    "\n",
    "#Scale: measured ability as linear transformation from test_score\n",
    "meas_ability = (test_score/test_length)*scale_length + scale_min\n",
    "meas_ab_mean = np.mean(meas_ability)\n",
    "meas_ab_std = np.std(meas_ability)\n",
    "\n",
    "# other scaling\n",
    "scale_min = 0\n",
    "scale_max = 10\n",
    "\n",
    "scale_length = scale_max - scale_min\n",
    "\n",
    "scaled_score = (test_score/test_length)*scale_length + scale_min\n",
    "scaled_mean = np.mean(scaled_score)\n",
    "scaled_std = np.std(scaled_score)"
   ]
  },
  {
   "cell_type": "code",
   "execution_count": 83,
   "metadata": {},
   "outputs": [],
   "source": [
    "#Calculate the mean squared distance between the original ability and the measured ability\n",
    "ability_error=np.mean(np.square(ability_org-meas_ability))"
   ]
  },
  {
   "cell_type": "code",
   "execution_count": 84,
   "metadata": {
    "scrolled": false
   },
   "outputs": [
    {
     "name": "stdout",
     "output_type": "stream",
     "text": [
      "N = 10000   M = 100\n",
      "mean ability = 0.0    standdard deviation ability = 1.00\n",
      "mean difficulty = 0.0   standdard deviation difficulty = 1.00\n",
      "distribution difficulty : 2\n",
      "width distribution difficulty = 4.0\n",
      "discrimination = 20.0, number of samples: 1\n",
      "\n"
     ]
    },
    {
     "data": {
      "image/png": "[encoded data removed]",
      "text/plain": [
       "<Figure size 1080x1080 with 8 Axes>"
      ]
     },
     "metadata": {
      "needs_background": "light"
     },
     "output_type": "display_data"
    }
   ],
   "source": [
    "#Print output\n",
    "\n",
    "plt.figure(figsize=(15,15))\n",
    "\n",
    "plt.subplot(421)\n",
    "plt.hist(ability_org,bins=int(population_length/10))\n",
    "plt.xlabel(\"ability uncorrected\")\n",
    "plt.ylabel(\"number of students\");\n",
    "\n",
    "plt.subplot(422)\n",
    "plt.hist(difficulty, bins=int(test_length/10))\n",
    "plt.xlabel(\"difficulty\")\n",
    "plt.ylabel(\"number of items\");\n",
    "\n",
    "plt.subplot(423)\n",
    "plt.hist(P_test_score,bins=int(test_length))\n",
    "plt.xlabel(\"P_test score\")\n",
    "plt.ylabel(\"number of students\");\n",
    "\n",
    "plt.subplot(424)\n",
    "plt.hist(p_values_P,bins=20,range=(0,1))\n",
    "plt.xlabel(\"p_values_P\")\n",
    "plt.ylabel(\"number of questions\");\n",
    "\n",
    "plt.subplot(425)\n",
    "plt.hist(D_test_score,bins=int(test_length))\n",
    "plt.xlabel(\"D_test score\")\n",
    "plt.ylabel(\"number of students\");\n",
    "\n",
    "plt.subplot(426)\n",
    "plt.hist(p_values_D,bins=20,range=(0,1))\n",
    "plt.xlabel(\"p_values_D\")\n",
    "plt.ylabel(\"number of questions\");\n",
    "\n",
    "plt.subplot(427)\n",
    "plt.hist(C_test_score,bins=int(test_length))\n",
    "plt.xlabel(\"C_test score\")\n",
    "plt.ylabel(\"number of students\");\n",
    "\n",
    "plt.subplot(428)\n",
    "plt.hist(p_values_C,bins=20,range=(0,1))\n",
    "plt.xlabel(\"p_values_C\")\n",
    "plt.ylabel(\"number of questions\");\n",
    "\n",
    "#plt.subplot(428)\n",
    "#plt.plot(sorted_p_values)\n",
    "#plt.xlabel(\"number of questions\")\n",
    "#plt.ylabel(\"p_values\");\n",
    "\n",
    "print(\"N = %.i   M = %.i\"%(population_length,test_length))\n",
    "print(\"mean ability = %.1f    standdard deviation ability = %.2f\"%(ability_mean,ability_stddev))\n",
    "print(\"mean difficulty = %.1f   standdard deviation difficulty = %.2f\"%(difficulty_mean,difficulty_stddev))\n",
    "print(\"distribution difficulty : %.i\"%(distribution))\n",
    "if distribution != 1:\n",
    "    print(\"width distribution difficulty = %.1f\"%(width))\n",
    "print(\"discrimination = %.1f, number of samples: %.i\"%(alpha,sample))\n",
    "print()\n",
    "#print(\"mean score = %.2f  standard deviation = %.2f\"%(test_mean,test_std))\n",
    "#print(\"mean scaled score = %.2f  standard deviation scaled = %.2f\"%(scaled_mean,scaled_std))\n",
    "#print(\"mean measured ability = %.2f   standard deviation measured ability = %.2f\"%(meas_ab_mean,meas_ab_std))\n",
    "#print(\"ability error = %.4f\"%(ability_error))"
   ]
  },
  {
   "cell_type": "code",
   "execution_count": null,
   "metadata": {},
   "outputs": [],
   "source": []
  },
  {
   "cell_type": "code",
   "execution_count": null,
   "metadata": {},
   "outputs": [],
   "source": []
  }
 ],
 "metadata": {
  "kernelspec": {
   "display_name": "Python 3",
   "language": "python",
   "name": "python3"
  },
  "language_info": {
   "codemirror_mode": {
    "name": "ipython",
    "version": 3
   },
   "file_extension": ".py",
   "mimetype": "text/x-python",
   "name": "python",
   "nbconvert_exporter": "python",
   "pygments_lexer": "ipython3",
   "version": "3.7.6"
  }
 },
 "nbformat": 4,
 "nbformat_minor": 4
}
